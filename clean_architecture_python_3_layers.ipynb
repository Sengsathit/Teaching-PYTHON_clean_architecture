{
 "cells": [
  {
   "cell_type": "markdown",
   "metadata": {},
   "source": [
    "# 🧑‍🏫 Clean Architecture en Python — Modèle **3 couches**\n",
    "\n",
    "**Couches :** `Presentation` → `Domain` ← `Data`\n",
    "\n",
    "Ce notebook illustre une architecture simple en 3 couches :\n",
    "\n",
    "- **Presentation** : API/CLI/UI (ne contient pas de logique métier)\n",
    "- **Domain** : règles métier + use cases (indépendant des frameworks et de la BDD)\n",
    "- **Data** : accès aux ressources et aux données (implémentations concrètes des repositories)\n",
    "\n",
    "👉 Objectifs :\n",
    "1. Comprendre le rôle de chaque couche\n",
    "2. Implémenter un petit cas d'usage (récupération d'une liste de produits)\n",
    "3. Tester les use cases **sans** dépendre des données\n",
    "4. Montrer qu'on peut **échanger** la Data layer sans toucher au Domain\n"
   ]
  },
  {
   "cell_type": "markdown",
   "metadata": {},
   "source": [
    "## 0) Code \"anti-pattern\" (à ne **pas** reproduire)\n",
    "\n",
    "On mélange tout : logique métier, accès aux données, et I/O."
   ]
  },
  {
   "cell_type": "code",
   "execution_count": 1,
   "metadata": {},
   "outputs": [
    {
     "name": "stdout",
     "output_type": "stream",
     "text": [
      "[DB] Connexion à la base...\n",
      "[IO] Renvoi de 3 produit(s)...\n",
      "[{'id': 1, 'name': 'Keyboard', 'price': 29.9}, {'id': 2, 'name': 'Mouse', 'price': 19.9}, {'id': 3, 'name': 'Monitor', 'price': 149.0}]\n"
     ]
    }
   ],
   "source": [
    "# ⚠️ Exemple volontairement mauvais : tout en un seul endroit\n",
    "all_products = [\n",
    "    {\"id\": 1, \"name\": \"Keyboard\", \"price\": 29.9},\n",
    "    {\"id\": 2, \"name\": \"Mouse\", \"price\": 19.9},\n",
    "    {\"id\": 3, \"name\": \"Monitor\", \"price\": 149.0},\n",
    "]\n",
    "\n",
    "def list_products():\n",
    "    print(\"[DB] Connexion à la base...\")  # mélange I/O + accès “données”\n",
    "    products = list(all_products)        # accès direct aux “données” globales\n",
    "\n",
    "    print(f\"[IO] Renvoi de {len(products)} produit(s)...\")  # I/O dans la même fonction\n",
    "    return products\n",
    "\n",
    "# Appel “présentation” (ici, on imprime directement) dans le même module\n",
    "result = list_products()\n",
    "print(result)"
   ]
  },
  {
   "cell_type": "markdown",
   "metadata": {},
   "source": [
    "## 1) Structure cible (3 couches)\n",
    "\n",
    "```\n",
    "project/\n",
    " ├─ di.py                     # Container Injection de dépendances : fournit le repo (InMemory, DB...)\n",
    " ├─ main.py                   # Point d’entrée de l’application (import app et lance Uvicorn/FastAPI)\n",
    " ├─ presentation/             # Couche Presentation : interface avec le monde extérieur (API, CLI, UI...)\n",
    " │   └─ api.py                # Définit l'objet FastAPI et les routes → appelle les Use Cases en injectant le repo\n",
    " ├─ domain/                   # Couche Domain : cœur métier, indépendant des frameworks\n",
    " │   ├─ entities.py           # Définition des entités métier (ex: Product)\n",
    " │   ├─ use_cases.py          # Cas d’usage (application logic) → manipule les entités via les interfaces\n",
    " │   └─ interfaces.py         # Interfaces (protocols) : définit les contrats que doit respecter la couche Data\n",
    " └─ data/                     # Couche Data : implémentations concrètes des interfaces définis dans Domain\n",
    "     ├─ in_memory_repo.py     # Repo “faux” en mémoire (utile pour les tests/démo)\n",
    "     └─ db_repo.py            # Repo “réel” connecté à une base de données (SQLite, Postgres, etc.)\n",
    "```\n",
    "\n",
    "**Règle d'or des dépendances (pointent vers le *Domain*) :**\n",
    "- ✅ `Presentation → Domain`\n",
    "- ✅ `Data → Domain`\n",
    "- ❌ **Aucune dépendance du Domain vers Presentation/Data**\n",
    "- ❌ **Aucune dépendance directe Presentation ↔ Data** (elles communiquent via le Domain)\n",
    "\n",
    "Schéma :\n",
    "\n",
    "![Clean Architecture](img/clean_architecture.png)\n",
    "\n",
    "La **Presentation** dépend du **Domain** (appel des use cases). Le **Domain** ne connaît que des **interfaces**. La **Data** implémente ces interfaces.\n"
   ]
  },
  {
   "cell_type": "markdown",
   "metadata": {},
   "source": [
    "## 2) Domain Layer — Entités, Ports, Use Cases\n",
    "\n",
    "Le domaine ne doit dépendre ni de FastAPI, ni de SQLAlchemy, ni d'aucun framework."
   ]
  },
  {
   "cell_type": "code",
   "execution_count": 2,
   "metadata": {},
   "outputs": [],
   "source": [
    "# domain/entities.py\n",
    "from dataclasses import dataclass\n",
    "\n",
    "@dataclass()\n",
    "class Product:\n",
    "    id: int\n",
    "    name: str\n",
    "    price: float"
   ]
  },
  {
   "cell_type": "code",
   "execution_count": 3,
   "metadata": {},
   "outputs": [],
   "source": [
    "# domain/interfaces.py — contrats que le Data layer doit respecter\n",
    "from typing import List\n",
    "from abc import ABC, abstractmethod\n",
    "\n",
    "class ProductRepository(ABC):\n",
    "    @abstractmethod\n",
    "    def get_all_products(self) -> List[Product]:\n",
    "        \"\"\"Retourne tous les produits disponibles\"\"\"\n",
    "        pass"
   ]
  },
  {
   "cell_type": "code",
   "execution_count": 4,
   "metadata": {},
   "outputs": [],
   "source": [
    "# domain/use_cases.py\n",
    "from typing import List, Dict\n",
    "\n",
    "class GetProductsUseCase:\n",
    "    \"\"\"Use case pour récupérer la liste des produits.\"\"\"\n",
    "    def __init__(self, repo: ProductRepository):\n",
    "        self.repo = repo\n",
    "\n",
    "    def execute(self) -> List[Dict]:\n",
    "        return [\n",
    "            {\"id\": p.id, \"name\": p.name, \"price\": p.price}\n",
    "            for p in self.repo.get_all_products()\n",
    "        ]"
   ]
  },
  {
   "cell_type": "markdown",
   "metadata": {},
   "source": [
    "## 3) Data Layer — Implémentations concrètes des interfaces/contrats\n",
    "\n",
    "On fournit **une** implémentation en mémoire (simple et testable)."
   ]
  },
  {
   "cell_type": "code",
   "execution_count": 5,
   "metadata": {},
   "outputs": [],
   "source": [
    "# data/in_memory_repo.py\n",
    "from typing import List\n",
    "\n",
    "class InMemoryProductRepository(ProductRepository):\n",
    "    \"\"\"Implémentation en mémoire (exemple statique) du ProductRepository.\"\"\"\n",
    "    \n",
    "    def get_all_products(self) -> List[Product]:\n",
    "        return [\n",
    "            Product(1, \"Keyboard\", 29.9),\n",
    "            Product(2, \"Mouse\", 19.9),\n",
    "            Product(3, \"Monitor\", 149.0),\n",
    "        ]"
   ]
  },
  {
   "cell_type": "markdown",
   "metadata": {},
   "source": [
    "Une implémentation d'une réelle BDD ou d'un service est envisageable, même exigée dans un contexte réel."
   ]
  },
  {
   "cell_type": "code",
   "execution_count": 6,
   "metadata": {},
   "outputs": [],
   "source": [
    "# data/db_repo.py\n",
    "from typing import List\n",
    "from time import sleep\n",
    "\n",
    "class DbProductRepository(ProductRepository):\n",
    "    \"\"\"Simule un repository qui irait chercher dans une base de données.\"\"\"\n",
    "\n",
    "    def get_all_products(self) -> List[Product]:\n",
    "        print(\"[DB] Connexion à la base...\")\n",
    "        sleep(3)  # petite latence pour simuler l'accès DB\n",
    "        print(\"[DB] SELECT * FROM products;\")\n",
    "\n",
    "        # On retourne des données comme si elles venaient d'une vraie table\n",
    "        return [\n",
    "            Product(1, \"Keyboard\", 29.9),\n",
    "            Product(2, \"Mouse\", 19.9),\n",
    "            Product(3, \"Monitor\", 149.0),\n",
    "        ]"
   ]
  },
  {
   "cell_type": "markdown",
   "metadata": {},
   "source": [
    "## 4) Presentation Layer — Exposer les use cases"
   ]
  },
  {
   "cell_type": "code",
   "execution_count": 10,
   "metadata": {},
   "outputs": [
    {
     "name": "stdout",
     "output_type": "stream",
     "text": [
      "Produits disponibles :\n",
      "[{'id': 1, 'name': 'Keyboard', 'price': 29.9},\n",
      " {'id': 2, 'name': 'Mouse', 'price': 19.9},\n",
      " {'id': 3, 'name': 'Monitor', 'price': 149.0}]\n"
     ]
    }
   ],
   "source": [
    "# presentation/main.py — démo ultra simple (produits)\n",
    "from pprint import pprint\n",
    "\n",
    "repository = InMemoryProductRepository()\n",
    "#repository = DbProductRepository()\n",
    "get_products_use_case = GetProductsUseCase(repo=repository)\n",
    "\n",
    "print(\"Produits disponibles :\")\n",
    "pprint(get_products_use_case.execute())"
   ]
  },
  {
   "cell_type": "markdown",
   "metadata": {},
   "source": [
    "## 5) Unit Tests — Le Domain est testable **sans** Data réelle"
   ]
  },
  {
   "cell_type": "code",
   "execution_count": 8,
   "metadata": {},
   "outputs": [
    {
     "name": "stdout",
     "output_type": "stream",
     "text": [
      "✅ Tests produits OK\n"
     ]
    }
   ],
   "source": [
    "# tests/test_use_cases.py — version simplifiée \"produits\"\n",
    "\n",
    "# Fake repo minimal conforme à l'interface ProductRepository (get_all_products uniquement)\n",
    "class FakeProductRepo(ProductRepository):\n",
    "\n",
    "    def get_all_products(self):\n",
    "        # Renvoie des objets ayant id/name/price (comme le port le demande)\n",
    "        return [\n",
    "            Product(id=1, name=\"Keyboard\", price=29.9),\n",
    "            Product(id=2, name=\"Mouse\",    price=19.9),\n",
    "            Product(id=3, name=\"Monitor\",  price=149.0)\n",
    "        ]\n",
    "\n",
    "# Use case à tester\n",
    "def test_get_products_returns_all():\n",
    "    repo = FakeProductRepo()\n",
    "    uc = GetProductsUseCase(repo)\n",
    "\n",
    "    products = uc.execute()  # doit renvoyer une liste de dicts sérialisables\n",
    "    assert isinstance(products, list)\n",
    "    assert len(products) == 3\n",
    "\n",
    "    # Vérifie le mapping / champs\n",
    "    p1 = products[0]\n",
    "    assert set(p1.keys()) == {\"id\", \"name\", \"price\"}\n",
    "    assert p1[\"id\"] == 1\n",
    "    assert p1[\"name\"] == \"Keyboard\"\n",
    "    assert isinstance(p1[\"price\"], (int, float))\n",
    "\n",
    "print(\"✅ Tests produits OK\")"
   ]
  },
  {
   "cell_type": "markdown",
   "metadata": {},
   "source": [
    "## 6) Checklist\n",
    "- [ ] La couche Domain ne dépend d'aucun framework\n",
    "- [ ] Les Use Cases sont testés **sans** DB\n",
    "- [ ] La couche Data implémente des interfaces/contrats définis par le Domain\n",
    "- [ ] La couche Presentation appelle **uniquement** les use cases\n",
    "- [ ] On peut **échanger** la Data layer sans toucher au Domain\n"
   ]
  }
 ],
 "metadata": {
  "kernelspec": {
   "display_name": ".venv",
   "language": "python",
   "name": "python3"
  },
  "language_info": {
   "codemirror_mode": {
    "name": "ipython",
    "version": 3
   },
   "file_extension": ".py",
   "mimetype": "text/x-python",
   "name": "python",
   "nbconvert_exporter": "python",
   "pygments_lexer": "ipython3",
   "version": "3.12.11"
  }
 },
 "nbformat": 4,
 "nbformat_minor": 2
}
